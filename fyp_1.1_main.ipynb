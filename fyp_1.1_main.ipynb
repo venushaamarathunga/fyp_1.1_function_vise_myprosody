{
 "cells": [
  {
   "cell_type": "code",
   "execution_count": 1,
   "id": "151ff500",
   "metadata": {},
   "outputs": [],
   "source": [
    "import parselmouth\n",
    "from parselmouth.praat import call, run_file\n",
    "import glob\n",
    "import pandas as pd\n",
    "import numpy as np\n",
    "import scipy\n",
    "from scipy.stats import binom\n",
    "from scipy.stats import ks_2samp\n",
    "from scipy.stats import ttest_ind\n",
    "import os\n"
   ]
  },
  {
   "cell_type": "code",
   "execution_count": 2,
   "id": "71fb61f7",
   "metadata": {},
   "outputs": [],
   "source": [
    "m = \"E1_P4\" \n",
    "p = r\"C:/Users/Dilakshana/new_FYP_project/fyp_1.1_process/myprosody\""
   ]
  },
  {
   "cell_type": "code",
   "execution_count": 3,
   "id": "b5999e7c",
   "metadata": {},
   "outputs": [],
   "source": [
    "def run_praat_file(m, p):\n",
    "    \"\"\"\n",
    "    p : path to dataset folder\n",
    "    m : path to file\n",
    "    returns : objects outputed by the praat script\n",
    "    \"\"\"\n",
    "    sound=p+\"/\"+\"dataset\"+\"/\"+\"audioFiles\"+\"/\"+m+\".wav\"\n",
    "    sourcerun=p+\"/\"+\"dataset\"+\"/\"+\"essen\"+\"/\"+\"myspsolution.praat\"\n",
    "    path=p+\"/\"+\"dataset\"+\"/\"+\"audioFiles\"+\"/\"\n",
    "\n",
    "    assert os.path.isfile(sound), \"Wrong path to audio file\"\n",
    "    assert os.path.isfile(sourcerun), \"Wrong path to praat script\"\n",
    "    assert os.path.isdir(path), \"Wrong path to audio files\"\n",
    "\n",
    "    try:\n",
    "        objects= run_file(sourcerun, -20, 2, 0.3, \"yes\",sound,path, 80, 400, 0.01, capture_output=True)\n",
    "        print (objects[0]) # This will print the info from the sound object, and objects[0] is a parselmouth.Sound object\n",
    "        z1=str( objects[1]) # This will print the info from the textgrid object, and objects[1] is a parselmouth.Data object with a TextGrid inside\n",
    "        z2=z1.strip().split()\n",
    "        return z2\n",
    "    except:\n",
    "        z3 = 0\n",
    "        print (\"Try again the sound of the audio was not clear\")"
   ]
  },
  {
   "cell_type": "code",
   "execution_count": 4,
   "id": "b6a52324",
   "metadata": {},
   "outputs": [],
   "source": [
    "def myspsyl(m,p):\n",
    "    \"\"\"\n",
    "    Detect and count number of syllables\n",
    "    \"\"\"\n",
    "    z2 = run_praat_file(m, p)\n",
    "    z3=int(z2[0]) # will be the integer number 10\n",
    "    z4=float(z2[3]) # will be the floating point number 8.3\n",
    "    print (\"number_ of_syllables=\",z3)\n",
    "    return z3"
   ]
  },
  {
   "cell_type": "code",
   "execution_count": 5,
   "id": "9c7b21bc",
   "metadata": {},
   "outputs": [
    {
     "name": "stdout",
     "output_type": "stream",
     "text": [
      "[]\n",
      "number_ of_syllables= 106\n"
     ]
    },
    {
     "data": {
      "text/plain": [
       "106"
      ]
     },
     "execution_count": 5,
     "metadata": {},
     "output_type": "execute_result"
    }
   ],
   "source": [
    "myspsyl(m,p)"
   ]
  },
  {
   "cell_type": "code",
   "execution_count": 6,
   "id": "bcb34768",
   "metadata": {},
   "outputs": [],
   "source": [
    "def mysppaus(m,p):\n",
    "    \"\"\"\n",
    "    Detect and count number of fillers and pauses\n",
    "    \"\"\"\n",
    "    z2 = run_praat_file(m, p)\n",
    "    z3=int(z2[1]) # will be the integer number 10\n",
    "    z4=float(z2[3]) # will be the floating point number 8.3\n",
    "    print (\"number_of_pauses=\",z3)\n",
    "    return z3"
   ]
  },
  {
   "cell_type": "code",
   "execution_count": 7,
   "id": "5132f8ea",
   "metadata": {},
   "outputs": [
    {
     "name": "stdout",
     "output_type": "stream",
     "text": [
      "[]\n",
      "number_of_pauses= 10\n"
     ]
    },
    {
     "data": {
      "text/plain": [
       "10"
      ]
     },
     "execution_count": 7,
     "metadata": {},
     "output_type": "execute_result"
    }
   ],
   "source": [
    "mysppaus(m,p)"
   ]
  },
  {
   "cell_type": "code",
   "execution_count": 8,
   "id": "57aec2cc",
   "metadata": {},
   "outputs": [],
   "source": [
    "def myspsr(m,p):\n",
    "    \"\"\"\n",
    "    Measure the rate of speech (speed)\n",
    "    \"\"\"\n",
    "    z2 = run_praat_file(m, p)\n",
    "    z3=int(z2[2]) # will be the integer number 10\n",
    "    z4=float(z2[3]) # will be the floating point number 8.3\n",
    "    print (\"rate_of_speech=\",z3,\"# syllables/sec original duration\")\n",
    "    return z3"
   ]
  },
  {
   "cell_type": "code",
   "execution_count": 9,
   "id": "6f04c770",
   "metadata": {},
   "outputs": [
    {
     "name": "stdout",
     "output_type": "stream",
     "text": [
      "[]\n",
      "rate_of_speech= 4 # syllables/sec original duration\n"
     ]
    },
    {
     "data": {
      "text/plain": [
       "4"
      ]
     },
     "execution_count": 9,
     "metadata": {},
     "output_type": "execute_result"
    }
   ],
   "source": [
    " myspsr(m,p)"
   ]
  },
  {
   "cell_type": "code",
   "execution_count": 10,
   "id": "3f6fe383",
   "metadata": {},
   "outputs": [],
   "source": [
    "def myspatc(m,p):\n",
    "    \"\"\"\n",
    "    Measure the articulation (speed)\n",
    "    \"\"\"\n",
    "    z2 = run_praat_file(m, p)\n",
    "    z3=int(z2[3]) # will be the integer number 10\n",
    "    z4=float(z2[3]) # will be the floating point number 8.3\n",
    "    print (\"articulation_rate=\",z3,\"# syllables/sec speaking duration\")\n",
    "    return z3"
   ]
  },
  {
   "cell_type": "code",
   "execution_count": 11,
   "id": "25b20f7d",
   "metadata": {},
   "outputs": [
    {
     "name": "stdout",
     "output_type": "stream",
     "text": [
      "[]\n",
      "articulation_rate= 5 # syllables/sec speaking duration\n"
     ]
    },
    {
     "data": {
      "text/plain": [
       "5"
      ]
     },
     "execution_count": 11,
     "metadata": {},
     "output_type": "execute_result"
    }
   ],
   "source": [
    "myspatc(m,p)"
   ]
  },
  {
   "cell_type": "code",
   "execution_count": 12,
   "id": "5c443ac8",
   "metadata": {},
   "outputs": [],
   "source": [
    "def myspst(m,p):\n",
    "    \"\"\"\n",
    "    Measure speaking time (excl. fillers and pause)\n",
    "    \"\"\"\n",
    "    z2 = run_praat_file(m, p)\n",
    "    z3=int(z2[3]) # will be the integer number 10\n",
    "    z4=float(z2[4]) # will be the floating point number 8.3\n",
    "    print (\"speaking_duration=\",z4,\"# sec only speaking duration without pauses\")\n",
    "    return z4"
   ]
  },
  {
   "cell_type": "code",
   "execution_count": 13,
   "id": "d06ce0d9",
   "metadata": {},
   "outputs": [
    {
     "name": "stdout",
     "output_type": "stream",
     "text": [
      "[]\n",
      "speaking_duration= 21.0 # sec only speaking duration without pauses\n"
     ]
    },
    {
     "data": {
      "text/plain": [
       "21.0"
      ]
     },
     "execution_count": 13,
     "metadata": {},
     "output_type": "execute_result"
    }
   ],
   "source": [
    "myspst(m,p)"
   ]
  },
  {
   "cell_type": "code",
   "execution_count": 14,
   "id": "84d14198",
   "metadata": {},
   "outputs": [],
   "source": [
    "def myspod(m,p):\n",
    "    \"\"\"\n",
    "    Measure total speaking duration (inc. fillers and pauses)\n",
    "    \"\"\"\n",
    "    z2 = run_praat_file(m, p)\n",
    "    z3=int(z2[3]) # will be the integer number 10\n",
    "    z4=float(z2[5]) # will be the floating point number 8.3\n",
    "    print (\"original_duration=\",z4,\"# sec total speaking duration with pauses\")\n",
    "    return z4"
   ]
  },
  {
   "cell_type": "code",
   "execution_count": 15,
   "id": "ed5b1b64",
   "metadata": {},
   "outputs": [
    {
     "name": "stdout",
     "output_type": "stream",
     "text": [
      "[]\n",
      "original_duration= 30.0 # sec total speaking duration with pauses\n"
     ]
    },
    {
     "data": {
      "text/plain": [
       "30.0"
      ]
     },
     "execution_count": 15,
     "metadata": {},
     "output_type": "execute_result"
    }
   ],
   "source": [
    "myspod(m,p)"
   ]
  },
  {
   "cell_type": "code",
   "execution_count": 16,
   "id": "9581d1c2",
   "metadata": {},
   "outputs": [],
   "source": [
    "def myspbala(m,p):\n",
    "    \"\"\"\n",
    "    Measure ratio between speaking duration and total speaking duration\n",
    "    \"\"\"\n",
    "    z2 = run_praat_file(m, p)\n",
    "    z3=int(z2[3]) # will be the integer number 10\n",
    "    z4=float(z2[6]) # will be the floating point number 8.3\n",
    "    print (\"balance=\",z4,\"# ratio (speaking duration)/(original duration)\")\n",
    "    return z4"
   ]
  },
  {
   "cell_type": "code",
   "execution_count": 17,
   "id": "abe1adc6",
   "metadata": {},
   "outputs": [
    {
     "name": "stdout",
     "output_type": "stream",
     "text": [
      "[]\n",
      "balance= 0.7 # ratio (speaking duration)/(original duration)\n"
     ]
    },
    {
     "data": {
      "text/plain": [
       "0.7"
      ]
     },
     "execution_count": 17,
     "metadata": {},
     "output_type": "execute_result"
    }
   ],
   "source": [
    "myspbala(m,p)"
   ]
  },
  {
   "cell_type": "code",
   "execution_count": 18,
   "id": "f9ec1f39",
   "metadata": {},
   "outputs": [],
   "source": [
    "def myspf0mean(m,p):\n",
    "    \"\"\"\n",
    "    Measure fundamental frequency distribution mean\n",
    "    \"\"\"\n",
    "    z2 = run_praat_file(m, p)\n",
    "    z3=int(z2[3]) # will be the integer number 10\n",
    "    z4=float(z2[7]) # will be the floating point number 8.3\n",
    "    print (\"f0_mean=\",z4,\"# Hz global mean of fundamental frequency distribution\")\n",
    "    return z4"
   ]
  },
  {
   "cell_type": "code",
   "execution_count": 19,
   "id": "7aea1857",
   "metadata": {},
   "outputs": [
    {
     "name": "stdout",
     "output_type": "stream",
     "text": [
      "[]\n",
      "f0_mean= 190.29 # Hz global mean of fundamental frequency distribution\n"
     ]
    },
    {
     "data": {
      "text/plain": [
       "190.29"
      ]
     },
     "execution_count": 19,
     "metadata": {},
     "output_type": "execute_result"
    }
   ],
   "source": [
    "myspf0mean(m,p)"
   ]
  },
  {
   "cell_type": "code",
   "execution_count": 20,
   "id": "3c70eddf",
   "metadata": {},
   "outputs": [],
   "source": [
    "def myspf0sd(m,p):\n",
    "    \"\"\"\n",
    "    Measure fundamental frequency distribution SD\n",
    "    \"\"\"\n",
    "    z2 = run_praat_file(m, p)\n",
    "    z3=int(z2[3]) # will be the integer number 10\n",
    "    z4=float(z2[8]) # will be the floating point number 8.3\n",
    "    print (\"f0_SD=\",z4,\"# Hz global standard deviation of fundamental frequency distribution\")\n",
    "    return z4"
   ]
  },
  {
   "cell_type": "code",
   "execution_count": 21,
   "id": "9a3583aa",
   "metadata": {},
   "outputs": [
    {
     "name": "stdout",
     "output_type": "stream",
     "text": [
      "[]\n",
      "f0_SD= 52.83 # Hz global standard deviation of fundamental frequency distribution\n"
     ]
    },
    {
     "data": {
      "text/plain": [
       "52.83"
      ]
     },
     "execution_count": 21,
     "metadata": {},
     "output_type": "execute_result"
    }
   ],
   "source": [
    "myspf0sd(m,p)"
   ]
  },
  {
   "cell_type": "code",
   "execution_count": 22,
   "id": "3b8b64d0",
   "metadata": {},
   "outputs": [],
   "source": [
    "def myspf0med(m,p):\n",
    "    \"\"\"\n",
    "    Measure fundamental frequency distribution median\n",
    "    \"\"\"\n",
    "    z2 = run_praat_file(m, p)\n",
    "    z3=int(z2[3]) # will be the integer number 10\n",
    "    z4=float(z2[9]) # will be the floating point number 8.3\n",
    "    print (\"f0_MD=\",z4,\"# Hz global median of fundamental frequency distribution\")\n",
    "    return z4\n"
   ]
  },
  {
   "cell_type": "code",
   "execution_count": 23,
   "id": "1fe265fc",
   "metadata": {},
   "outputs": [
    {
     "name": "stdout",
     "output_type": "stream",
     "text": [
      "[]\n",
      "f0_MD= 197.5 # Hz global median of fundamental frequency distribution\n"
     ]
    },
    {
     "data": {
      "text/plain": [
       "197.5"
      ]
     },
     "execution_count": 23,
     "metadata": {},
     "output_type": "execute_result"
    }
   ],
   "source": [
    "myspf0med(m,p)"
   ]
  },
  {
   "cell_type": "code",
   "execution_count": 24,
   "id": "14b0b81a",
   "metadata": {},
   "outputs": [],
   "source": [
    "def myspf0min(m,p):\n",
    "    \"\"\"\n",
    "    Measure fundamental frequency distribution minimum\n",
    "    \"\"\"\n",
    "    z2 = run_praat_file(m, p)\n",
    "    z3=int(z2[10]) # will be the integer number 10\n",
    "    z4=float(z2[10]) # will be the floating point number 8.3\n",
    "    print (\"f0_min=\",z3,\"# Hz global minimum of fundamental frequency distribution\")\n",
    "    return z3"
   ]
  },
  {
   "cell_type": "code",
   "execution_count": 25,
   "id": "d267e4e8",
   "metadata": {},
   "outputs": [
    {
     "name": "stdout",
     "output_type": "stream",
     "text": [
      "[]\n",
      "f0_min= 77 # Hz global minimum of fundamental frequency distribution\n"
     ]
    },
    {
     "data": {
      "text/plain": [
       "77"
      ]
     },
     "execution_count": 25,
     "metadata": {},
     "output_type": "execute_result"
    }
   ],
   "source": [
    "myspf0min(m,p)"
   ]
  },
  {
   "cell_type": "code",
   "execution_count": 26,
   "id": "37bdb55c",
   "metadata": {},
   "outputs": [],
   "source": [
    "def myspf0max(m,p):\n",
    "    \"\"\"\n",
    "    Measure fundamental frequency distribution maximum\n",
    "    \"\"\"\n",
    "    z2 = run_praat_file(m, p)\n",
    "    z3=int(z2[11]) # will be the integer number 10\n",
    "    z4=float(z2[11]) # will be the floating point number 8.3\n",
    "    print (\"f0_max=\",z3,\"# Hz global maximum of fundamental frequency distribution\")\n",
    "    return z3"
   ]
  },
  {
   "cell_type": "code",
   "execution_count": 27,
   "id": "07cab7d1",
   "metadata": {},
   "outputs": [
    {
     "name": "stdout",
     "output_type": "stream",
     "text": [
      "[]\n",
      "f0_max= 385 # Hz global maximum of fundamental frequency distribution\n"
     ]
    },
    {
     "data": {
      "text/plain": [
       "385"
      ]
     },
     "execution_count": 27,
     "metadata": {},
     "output_type": "execute_result"
    }
   ],
   "source": [
    "myspf0max(m,p)"
   ]
  },
  {
   "cell_type": "code",
   "execution_count": 28,
   "id": "822e8f73",
   "metadata": {},
   "outputs": [],
   "source": [
    "def myspf0q25(m,p):\n",
    "    \"\"\"\n",
    "    Measure 25th quantile fundamental frequency distribution\n",
    "    \"\"\"\n",
    "    z2 = run_praat_file(m, p)\n",
    "    z3=int(z2[12]) # will be the integer number 10\n",
    "    z4=float(z2[11]) # will be the floating point number 8.3\n",
    "    print (\"f0_quan25=\",z3,\"# Hz global 25th quantile of fundamental frequency distribution\")\n",
    "    return z3"
   ]
  },
  {
   "cell_type": "code",
   "execution_count": 29,
   "id": "bc6d5d3a",
   "metadata": {},
   "outputs": [
    {
     "name": "stdout",
     "output_type": "stream",
     "text": [
      "[]\n",
      "f0_quan25= 171 # Hz global 25th quantile of fundamental frequency distribution\n"
     ]
    },
    {
     "data": {
      "text/plain": [
       "171"
      ]
     },
     "execution_count": 29,
     "metadata": {},
     "output_type": "execute_result"
    }
   ],
   "source": [
    "myspf0q25(m,p)"
   ]
  },
  {
   "cell_type": "code",
   "execution_count": 30,
   "id": "b82903be",
   "metadata": {},
   "outputs": [],
   "source": [
    "def myspf0q75(m,p):\n",
    "    \"\"\"\n",
    "    Measure 75th quantile fundamental frequency distribution\n",
    "    \"\"\"\n",
    "    z2 = run_praat_file(m, p)\n",
    "    z3=int(z2[13]) # will be the integer number 10\n",
    "    z4=float(z2[11]) # will be the floating point number 8.3\n",
    "    print (\"f0_quan75=\",z3,\"# Hz global 75th quantile of fundamental frequency distribution\")\n",
    "    return z3\n",
    "\n"
   ]
  },
  {
   "cell_type": "code",
   "execution_count": 31,
   "id": "fd013873",
   "metadata": {},
   "outputs": [
    {
     "name": "stdout",
     "output_type": "stream",
     "text": [
      "[]\n",
      "f0_quan75= 221 # Hz global 75th quantile of fundamental frequency distribution\n"
     ]
    },
    {
     "data": {
      "text/plain": [
       "221"
      ]
     },
     "execution_count": 31,
     "metadata": {},
     "output_type": "execute_result"
    }
   ],
   "source": [
    "myspf0q75(m,p)"
   ]
  },
  {
   "cell_type": "code",
   "execution_count": 32,
   "id": "4ec9ddba",
   "metadata": {},
   "outputs": [],
   "source": [
    "def mysptotal(m,p):\n",
    "    \"\"\"\n",
    "    Overview\n",
    "    \"\"\"\n",
    "    z2 = run_praat_file(m, p)\n",
    "    z3=np.array(z2)\n",
    "    z4=np.array(z3)[np.newaxis]\n",
    "    z5=z4.T\n",
    "    dataset=pd.DataFrame({\"number_ of_syllables\":z5[0,:],\"number_of_pauses\":z5[1,:],\"rate_of_speech\":z5[2,:],\"articulation_rate\":z5[3,:],\"speaking_duration\":z5[4,:],\n",
    "                        \"original_duration\":z5[5,:],\"balance\":z5[6,:],\"f0_mean\":z5[7,:],\"f0_std\":z5[8,:],\"f0_median\":z5[9,:],\"f0_min\":z5[10,:],\"f0_max\":z5[11,:],\n",
    "                        \"f0_quantile25\":z5[12,:],\"f0_quan75\":z5[13,:]})\n",
    "    print (dataset.T)\n",
    "    return dataset.T\n",
    "\n"
   ]
  },
  {
   "cell_type": "code",
   "execution_count": 33,
   "id": "dd726dfc",
   "metadata": {},
   "outputs": [
    {
     "name": "stdout",
     "output_type": "stream",
     "text": [
      "[]\n",
      "                           0\n",
      "number_ of_syllables     106\n",
      "number_of_pauses          10\n",
      "rate_of_speech             4\n",
      "articulation_rate          5\n",
      "speaking_duration         21\n",
      "original_duration         30\n",
      "balance                  0.7\n",
      "f0_mean               190.29\n",
      "f0_std                 52.83\n",
      "f0_median              197.5\n",
      "f0_min                    77\n",
      "f0_max                   385\n",
      "f0_quantile25            171\n",
      "f0_quan75                221\n"
     ]
    },
    {
     "data": {
      "text/html": [
       "<div>\n",
       "<style scoped>\n",
       "    .dataframe tbody tr th:only-of-type {\n",
       "        vertical-align: middle;\n",
       "    }\n",
       "\n",
       "    .dataframe tbody tr th {\n",
       "        vertical-align: top;\n",
       "    }\n",
       "\n",
       "    .dataframe thead th {\n",
       "        text-align: right;\n",
       "    }\n",
       "</style>\n",
       "<table border=\"1\" class=\"dataframe\">\n",
       "  <thead>\n",
       "    <tr style=\"text-align: right;\">\n",
       "      <th></th>\n",
       "      <th>0</th>\n",
       "    </tr>\n",
       "  </thead>\n",
       "  <tbody>\n",
       "    <tr>\n",
       "      <th>number_ of_syllables</th>\n",
       "      <td>106</td>\n",
       "    </tr>\n",
       "    <tr>\n",
       "      <th>number_of_pauses</th>\n",
       "      <td>10</td>\n",
       "    </tr>\n",
       "    <tr>\n",
       "      <th>rate_of_speech</th>\n",
       "      <td>4</td>\n",
       "    </tr>\n",
       "    <tr>\n",
       "      <th>articulation_rate</th>\n",
       "      <td>5</td>\n",
       "    </tr>\n",
       "    <tr>\n",
       "      <th>speaking_duration</th>\n",
       "      <td>21</td>\n",
       "    </tr>\n",
       "    <tr>\n",
       "      <th>original_duration</th>\n",
       "      <td>30</td>\n",
       "    </tr>\n",
       "    <tr>\n",
       "      <th>balance</th>\n",
       "      <td>0.7</td>\n",
       "    </tr>\n",
       "    <tr>\n",
       "      <th>f0_mean</th>\n",
       "      <td>190.29</td>\n",
       "    </tr>\n",
       "    <tr>\n",
       "      <th>f0_std</th>\n",
       "      <td>52.83</td>\n",
       "    </tr>\n",
       "    <tr>\n",
       "      <th>f0_median</th>\n",
       "      <td>197.5</td>\n",
       "    </tr>\n",
       "    <tr>\n",
       "      <th>f0_min</th>\n",
       "      <td>77</td>\n",
       "    </tr>\n",
       "    <tr>\n",
       "      <th>f0_max</th>\n",
       "      <td>385</td>\n",
       "    </tr>\n",
       "    <tr>\n",
       "      <th>f0_quantile25</th>\n",
       "      <td>171</td>\n",
       "    </tr>\n",
       "    <tr>\n",
       "      <th>f0_quan75</th>\n",
       "      <td>221</td>\n",
       "    </tr>\n",
       "  </tbody>\n",
       "</table>\n",
       "</div>"
      ],
      "text/plain": [
       "                           0\n",
       "number_ of_syllables     106\n",
       "number_of_pauses          10\n",
       "rate_of_speech             4\n",
       "articulation_rate          5\n",
       "speaking_duration         21\n",
       "original_duration         30\n",
       "balance                  0.7\n",
       "f0_mean               190.29\n",
       "f0_std                 52.83\n",
       "f0_median              197.5\n",
       "f0_min                    77\n",
       "f0_max                   385\n",
       "f0_quantile25            171\n",
       "f0_quan75                221"
      ]
     },
     "execution_count": 33,
     "metadata": {},
     "output_type": "execute_result"
    }
   ],
   "source": [
    "mysptotal(m,p)"
   ]
  },
  {
   "cell_type": "code",
   "execution_count": 34,
   "id": "7fc856a6",
   "metadata": {},
   "outputs": [],
   "source": [
    "def mysppron(m,p):\n",
    "    \"\"\"\n",
    "    Pronunciation posteriori probability score percentage\n",
    "    \"\"\"\n",
    "\n",
    "    sound=p+\"/\"+\"dataset\"+\"/\"+\"audioFiles\"+\"/\"+m+\".wav\"\n",
    "    sourcerun=p+\"/\"+\"dataset\"+\"/\"+\"essen\"+\"/\"+\"myspsolution.praat\"\n",
    "    path=p+\"/\"+\"dataset\"+\"/\"+\"audioFiles\"+\"/\"\n",
    "    try:\n",
    "        objects= run_file(sourcerun, -20, 2, 0.3, \"yes\",sound,path, 80, 400, 0.01, capture_output=True)\n",
    "        print (objects[0]) # This will print the info from the sound object, and objects[0] is a parselmouth.Sound object\n",
    "        z1=str( objects[1]) # This will print the info from the textgrid object, and objects[1] is a parselmouth.Data object with a TextGrid inside\n",
    "        z2=z1.strip().split()\n",
    "        z3=int(z2[13]) # will be the integer number 10\n",
    "        z4=float(z2[14]) # will be the floating point number 8.3\n",
    "        db= binom.rvs(n=10,p=z4,size=10000)\n",
    "        a=np.array(db)\n",
    "        b=np.mean(a)*100/10\n",
    "        print (\"Pronunciation_posteriori_probability_score_percentage= :%.2f\" % (b))\n",
    "    except:\n",
    "        print (\"Try again the sound of the audio was not clear\")\n",
    "    return\n",
    "\n"
   ]
  },
  {
   "cell_type": "code",
   "execution_count": 35,
   "id": "32bce8c9",
   "metadata": {},
   "outputs": [
    {
     "name": "stdout",
     "output_type": "stream",
     "text": [
      "[]\n",
      "Pronunciation_posteriori_probability_score_percentage= :95.01\n"
     ]
    }
   ],
   "source": [
    "mysppron(m,p)"
   ]
  },
  {
   "cell_type": "code",
   "execution_count": 36,
   "id": "1aaaebec",
   "metadata": {},
   "outputs": [],
   "source": [
    "def myspgend(m,p):\n",
    "    \"\"\"\n",
    "    Gender recognition and mood of speech\n",
    "    \"\"\"\n",
    "    sound=p+\"/\"+\"dataset\"+\"/\"+\"audioFiles\"+\"/\"+m+\".wav\"\n",
    "    sourcerun=p+\"/\"+\"dataset\"+\"/\"+\"essen\"+\"/\"+\"myspsolution.praat\" \n",
    "    path=p+\"/\"+\"dataset\"+\"/\"+\"audioFiles\"+\"/\"\n",
    "    try:\n",
    "        objects= run_file(sourcerun, -20, 2, 0.3, \"yes\",sound,path, 80, 400, 0.01, capture_output=True)\n",
    "        print (objects[0]) # This will print the info from the sound object, and objects[0] is a parselmouth.Sound object\n",
    "        z1=str( objects[1]) # This will print the info from the textgrid object, and objects[1] is a parselmouth.Data object with a TextGrid inside\n",
    "        z2=z1.strip().split()\n",
    "        z3=float(z2[8]) # will be the integer number 10\n",
    "        z4=float(z2[7]) # will be the floating point number 8.3\n",
    "        if z4<=114:\n",
    "            g=101\n",
    "            j=3.4\n",
    "        elif z4>114 and z4<=135:\n",
    "            g=128\n",
    "            j=4.35\n",
    "        elif z4>135 and z4<=163:\n",
    "            g=142\n",
    "            j=4.85\n",
    "        elif z4>163 and z4<=197:\n",
    "            g=182\n",
    "            j=2.7\n",
    "        elif z4>197 and z4<=226:\n",
    "            g=213\n",
    "            j=4.5\n",
    "        elif z4>226:\n",
    "            g=239\n",
    "            j=5.3\n",
    "        else:\n",
    "            print(\"Voice not recognized\")\n",
    "            exit()\n",
    "        def teset(a,b,c,d):\n",
    "            d1=np.random.wald(a, 1, 1000)\n",
    "            d2=np.random.wald(b,1,1000)\n",
    "            d3=ks_2samp(d1, d2)\n",
    "            c1=np.random.normal(a,c,1000)\n",
    "            c2=np.random.normal(b,d,1000)\n",
    "            c3=ttest_ind(c1,c2)\n",
    "            y=([d3[0],d3[1],abs(c3[0]),c3[1]])\n",
    "            return y\n",
    "        nn=0\n",
    "        mm=teset(g,j,z4,z3)\n",
    "        while (mm[3]>0.05 and mm[0]>0.04 or nn<5):\n",
    "            mm=teset(g,j,z4,z3)\n",
    "            nn=nn+1\n",
    "        nnn=nn\n",
    "        if mm[3]<=0.09:\n",
    "            mmm=mm[3]\n",
    "        else:\n",
    "            mmm=0.35\n",
    "        if z4>97 and z4<=114:\n",
    "            print(\"a Male, mood of speech: Showing no emotion, normal, p-value/sample size= :%.2f\" % (mmm), (nnn))\n",
    "        elif z4>114 and z4<=135:\n",
    "            print(\"a Male, mood of speech: Reading, p-value/sample size= :%.2f\" % (mmm), (nnn))\n",
    "        elif z4>135 and z4<=163:\n",
    "            print(\"a Male, mood of speech: speaking passionately, p-value/sample size= :%.2f\" % (mmm), (nnn))\n",
    "        elif z4>163 and z4<=197:\n",
    "            print(\"a female, mood of speech: Showing no emotion, normal, p-value/sample size= :%.2f\" % (mmm), (nnn))\n",
    "        elif z4>197 and z4<=226:\n",
    "            print(\"a female, mood of speech: Reading, p-value/sample size= :%.2f\" % (mmm), (nnn))\n",
    "        elif z4>226 and z4<=245:\n",
    "            print(\"a female, mood of speech: speaking passionately, p-value/sample size= :%.2f\" % (mmm), (nnn))\n",
    "        else:\n",
    "            print(\"Voice not recognized\")\n",
    "    except:\n",
    "        print (\"Try again the sound of the audio was not clear\")\n",
    "\n"
   ]
  },
  {
   "cell_type": "code",
   "execution_count": 37,
   "id": "7fba2eb5",
   "metadata": {},
   "outputs": [
    {
     "name": "stdout",
     "output_type": "stream",
     "text": [
      "[]\n",
      "a female, mood of speech: Showing no emotion, normal, p-value/sample size= :0.00 5\n"
     ]
    }
   ],
   "source": [
    "myspgend(m,p)"
   ]
  },
  {
   "cell_type": "code",
   "execution_count": 38,
   "id": "b5efa31e",
   "metadata": {},
   "outputs": [],
   "source": [
    "def myprosody(m,p):\n",
    "    \"\"\"\n",
    "    Compared to native speech, here are the prosodic features of your speech\n",
    "    \"\"\"\n",
    "    sound=p+\"/\"+\"dataset\"+\"/\"+\"audioFiles\"+\"/\"+m+\".wav\"\n",
    "    sourcerun=p+\"/\"+\"dataset\"+\"/\"+\"essen\"+\"/\"+\"MLTRNL.praat\"\n",
    "    path=p+\"/\"+\"dataset\"+\"/\"+\"audioFiles\"+\"/\"\n",
    "    outo=p+\"/\"+\"dataset\"+\"/\"+\"datanewchi22.csv\"\n",
    "    outst=p+\"/\"+\"dataset\"+\"/\"+\"datanewchi44.csv\"\n",
    "    outsy=p+\"/\"+\"dataset\"+\"/\"+\"datanewchi33.csv\"\n",
    "    pa2=p+\"/\"+\"dataset\"+\"/\"+\"stats.csv\"\n",
    "    pa7=p+\"/\"+\"dataset\"+\"/\"+\"datanewchi44.csv\" \n",
    "    result_array = np.empty((0, 100))\n",
    "    files = glob.glob(path)\n",
    "    result_array = np.empty((0, 27))\n",
    "    try:\n",
    "        objects= run_file(sourcerun, -20, 2, 0.3, \"yes\",sound,path, 80, 400, 0.01, capture_output=True)\n",
    "        z1=( objects[1]) # This will print the info from the textgrid object, and objects[1] is a parselmouth.Data object with a TextGrid inside\n",
    "        z3=z1.strip().split()\n",
    "        z2=np.array([z3])\n",
    "        result_array=np.append(result_array,[z3], axis=0)\n",
    "        #print(z3)\n",
    "        np.savetxt(outo,result_array, fmt='%s',delimiter=',')\n",
    "        #Data and features analysis\n",
    "        df = pd.read_csv(outo, names = ['avepauseduratin','avelongpause','speakingtot','avenumberofwords','articulationrate','inpro','f1norm','mr','q25','q50','q75','std','fmax','fmin','vowelinx1','vowelinx2','formantmean','formantstd','nuofwrds','npause','ins','fillerratio','xx','xxx','totsco','xxban','speakingrate'],na_values='?')\n",
    "        scoreMLdataset=df.drop(['xxx','xxban'], axis=1)\n",
    "        scoreMLdataset.to_csv(outst, header=False,index = False)\n",
    "        newMLdataset=df.drop(['avenumberofwords','f1norm','inpro','q25','q75','vowelinx1','nuofwrds','npause','xx','totsco','xxban','speakingrate','fillerratio'], axis=1)\n",
    "        newMLdataset.to_csv(outsy, header=False,index = False)\n",
    "        namess=nms = ['avepauseduratin','avelongpause','speakingtot','articulationrate','mr','q50','std','fmax','fmin','vowelinx2','formantmean','formantstd','ins','xxx']\n",
    "        df1 = pd.read_csv(outsy, names = namess)\n",
    "        nsns=['average_syll_pause_duration','No._long_pause','speaking_time','ave_No._of_words_in_minutes','articulation_rate','No._words_in_minutes','formants_index','f0_index','f0_quantile_25_index','f0_quantile_50_index','f0_quantile_75_index','f0_std','f0_max','f0_min','No._detected_vowel','perc%._correct_vowel','(f2/f1)_mean','(f2/f1)_std','no._of_words','no._of_pauses','intonation_index','(voiced_syll_count)/(no_of_pause)','TOEFL_Scale_Score','Score_Shannon_index','speaking_rate']\n",
    "        dataframe = pd.read_csv(pa2)\n",
    "        df55 = pd.read_csv(outst,names=nsns)\n",
    "        dataframe=dataframe.values\n",
    "        array = df55.values\n",
    "        print(\"Compared to native speech, here are the prosodic features of your speech:\")\n",
    "        for i in range(25):\n",
    "            sl0=dataframe[4:7:1,i+1]\n",
    "            score = array[0,i]\n",
    "            he=scipy.stats.percentileofscore(sl0, score, kind='strict')\n",
    "            if he==0:\n",
    "                he=25\n",
    "                dfout = \"%s:\\t %f (%s)\" %  (nsns[i],he,\"% percentile \")\n",
    "                print(dfout)\n",
    "            elif he>=25 and he<=75:\n",
    "                dfout = \"%s:\\t %f (%s)\" % (nsns[i],he,\"% percentile \")\n",
    "                print(dfout)\n",
    "            else:\n",
    "                dfout = \"%s:\\t (%s)\" % (nsns[i],\":Out of Range\")\n",
    "                print(dfout)\n",
    "    except:\n",
    "        print (\"Try again the sound of the audio was not clear\")"
   ]
  },
  {
   "cell_type": "code",
   "execution_count": 39,
   "id": "5511c164",
   "metadata": {},
   "outputs": [
    {
     "name": "stdout",
     "output_type": "stream",
     "text": [
      "Try again the sound of the audio was not clear\n"
     ]
    }
   ],
   "source": [
    "myprosody(m,p)"
   ]
  },
  {
   "cell_type": "code",
   "execution_count": 40,
   "id": "bb68c056",
   "metadata": {},
   "outputs": [],
   "source": [
    "def mysplev(m,p):\n",
    "    \"\"\"\n",
    "    Spoken Language Proficiency Level estimator, \n",
    "    based on Machine Learning models of the prosodic features of your speech\n",
    "    \"\"\"\n",
    "    import sys\n",
    "    def my_except_hook(exctype, value, traceback):\n",
    "        print('There has been an error in the system')\n",
    "    sys.excepthook = my_except_hook\n",
    "    import warnings\n",
    "    if not sys.warnoptions:\n",
    "        warnings.simplefilter(\"ignore\")\n",
    "    sound=p+\"/\"+\"dataset\"+\"/\"+\"audioFiles\"+\"/\"+m+\".wav\"\n",
    "    sourcerun=p+\"/\"+\"dataset\"+\"/\"+\"essen\"+\"/\"+\"MLTRNL.praat\"\n",
    "    path=p+\"/\"+\"dataset\"+\"/\"+\"audioFiles\"+\"/\"\n",
    "    pa1=p+\"/\"+\"dataset\"+\"/\"+\"datanewchi23.csv\"\n",
    "    pa7=p+\"/\"+\"dataset\"+\"/\"+\"datanewchi45.csv\"\n",
    "    pa5=p+\"/\"+\"dataset\"+\"/\"+\"datanewchi34.csv\"\n",
    "    result_array = np.empty((0, 100))\n",
    "    ph = sound\n",
    "    files = glob.glob(ph)\n",
    "    result_array = np.empty((0, 27))\n",
    "    try:\n",
    "        for soundi in files:\n",
    "            objects= run_file(sourcerun, -20, 2, 0.3, \"yes\", soundi, path, 80, 400, 0.01, capture_output=True)\n",
    "            #print (objects[0]) # This will print the info from the sound object, and objects[0] is a parselmouth.Sound object\n",
    "            z1=( objects[1]) # This will print the info from the textgrid object, and objects[1] is a parselmouth.Data object with a TextGrid inside\n",
    "            z3=z1.strip().split()\n",
    "            z2=np.array([z3])\n",
    "            result_array=np.append(result_array,[z3], axis=0)\n",
    "\n",
    "        np.savetxt(pa1,result_array, fmt='%s',delimiter=',')\n",
    "        #Data and features analysis \n",
    "        df = pd.read_csv(pa1, names = ['avepauseduratin','avelongpause','speakingtot','avenumberofwords','articulationrate','inpro','f1norm','mr','q25','q50','q75','std','fmax','fmin','vowelinx1','vowelinx2','formantmean','formantstd','nuofwrds','npause','ins','fillerratio','xx','xxx','totsco','xxban','speakingrate'],na_values='?')\n",
    "\n",
    "        scoreMLdataset=df.drop(['xxx','xxban'], axis=1)\n",
    "        scoreMLdataset.to_csv(pa7, header=False,index = False)\n",
    "        newMLdataset=df.drop(['avenumberofwords','f1norm','inpro','q25','q75','vowelinx1','nuofwrds','npause','xx','totsco','xxban','speakingrate','fillerratio'], axis=1)\n",
    "        newMLdataset.to_csv(pa5, header=False,index = False)\n",
    "        namess=nms = ['avepauseduratin','avelongpause','speakingtot','articulationrate','mr','q50','std','fmax','fmin','vowelinx2','formantmean','formantstd','ins','xxx']\n",
    "        df1 = pd.read_csv(pa5,names = namess)\n",
    "        df33=df1.drop(['xxx'], axis=1)\n",
    "        array = df33.values\n",
    "        array=np.log(array)\n",
    "        x = array[:,0:13]\n",
    "\n",
    "        def myspp(bp,bg):\n",
    "            sound=bg+\"/\"+\"dataset\"+\"/\"+\"audioFiles\"+\"/\"+bp+\".wav\"\n",
    "            sourcerun=bg+\"/\"+\"dataset\"+\"/\"+\"essen\"+\"/\"+\"myspsolution.praat\"\n",
    "            path=bg+\"/\"+\"dataset\"+\"/\"+\"audioFiles\"+\"/\"\n",
    "            objects= run_file(sourcerun, -20, 2, 0.3, \"yes\",sound,path, 80, 400, 0.01, capture_output=True)\n",
    "            print (objects[0]) # This will print the info from the sound object, and objects[0] is a parselmouth.Sound object\n",
    "            z1=str( objects[1]) # This will print the info from the textgrid object, and objects[1] is a parselmouth.Data object with a TextGrid inside\n",
    "            z2=z1.strip().split()\n",
    "            z3=int(z2[13]) # will be the integer number 10\n",
    "            z4=float(z2[14]) # will be the floating point number 8.3\n",
    "            db= binom.rvs(n=10,p=z4,size=10000)\n",
    "            a=np.array(db)\n",
    "            b=np.mean(a)*100/10\n",
    "            return b\n",
    "\n",
    "        bp=m\n",
    "        bg=p\n",
    "        bi=myspp(bp,bg)\n",
    "        if bi<85:\n",
    "            input(\"Try again, unnatural-sounding speech detected. No further result. Press any key to exit.\")\n",
    "            exit()\n",
    "\n",
    "        filename=p+\"/\"+\"dataset\"+\"/\"+\"essen\"+\"/\"+\"CART_model.sav\"\n",
    "        model = pickle.load(open(filename, 'rb'))\n",
    "        predictions = model.predict(x)\n",
    "        print(\"58% accuracy    \",predictions)\n",
    "\n",
    "        filename=p+\"/\"+\"dataset\"+\"/\"+\"essen\"+\"/\"+\"KNN_model.sav\"\n",
    "        model = pickle.load(open(filename, 'rb'))\n",
    "        predictions = model.predict(x)\n",
    "        print(\"65% accuracy    \",predictions)\n",
    "\n",
    "        filename=p+\"/\"+\"dataset\"+\"/\"+\"essen\"+\"/\"+\"LDA_model.sav\"\n",
    "        model = pickle.load(open(filename, 'rb'))\n",
    "        predictions = model.predict(x)\n",
    "        print(\"70% accuracy    \",predictions)\n",
    "    \n",
    "        filename=p+\"/\"+\"dataset\"+\"/\"+\"essen\"+\"/\"+\"LR_model.sav\"\n",
    "        model = pickle.load(open(filename, 'rb'))\n",
    "        predictions = model.predict(x)\n",
    "        print(\"67% accuracy    \",predictions)\n",
    "\n",
    "        filename=p+\"/\"+\"dataset\"+\"/\"+\"essen\"+\"/\"+\"NB_model.sav\"\n",
    "        model = pickle.load(open(filename, 'rb'))\n",
    "        predictions = model.predict(x)\n",
    "        print(\"64% accuracy    \",predictions)\n",
    "\n",
    "        filename=p+\"/\"+\"dataset\"+\"/\"+\"essen\"+\"/\"+\"SVN_model.sav\"\n",
    "        model = pickle.load(open(filename, 'rb'))\n",
    "        predictions = model.predict(x)\n",
    "        print(\"63% accuracy    \",predictions)\n",
    "    except:\n",
    "        print (\"Try again the sound of the audio was not clear\")"
   ]
  },
  {
   "cell_type": "code",
   "execution_count": 41,
   "id": "33e0d249",
   "metadata": {},
   "outputs": [
    {
     "name": "stdout",
     "output_type": "stream",
     "text": [
      "Try again the sound of the audio was not clear\n"
     ]
    }
   ],
   "source": [
    "mysplev(m,p)"
   ]
  },
  {
   "cell_type": "code",
   "execution_count": null,
   "id": "a05a9425",
   "metadata": {},
   "outputs": [],
   "source": []
  }
 ],
 "metadata": {
  "kernelspec": {
   "display_name": "Python 3",
   "language": "python",
   "name": "python3"
  },
  "language_info": {
   "codemirror_mode": {
    "name": "ipython",
    "version": 3
   },
   "file_extension": ".py",
   "mimetype": "text/x-python",
   "name": "python",
   "nbconvert_exporter": "python",
   "pygments_lexer": "ipython3",
   "version": "3.7.10"
  }
 },
 "nbformat": 4,
 "nbformat_minor": 5
}
